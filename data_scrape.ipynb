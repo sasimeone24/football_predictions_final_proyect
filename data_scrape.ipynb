{
 "cells": [
  {
   "cell_type": "code",
   "execution_count": 1,
   "id": "fb2599f4",
   "metadata": {},
   "outputs": [],
   "source": [
    "import pandas as pd\n",
    "import numpy as np\n",
    "\n",
    "import requests\n",
    "from bs4 import BeautifulSoup\n",
    "\n",
    "import time"
   ]
  },
  {
   "cell_type": "code",
   "execution_count": 2,
   "id": "d961739b",
   "metadata": {},
   "outputs": [],
   "source": [
    "names = ['Manchester United', 'Tottenham', 'Bournemouth', 'Aston Villa',\n",
    "        'Everton', 'Watford', 'Leicester', 'Sunderland', 'Norwich',\n",
    "        'Crystal Palace', 'Chelsea', 'Swansea', 'Newcastle United',\n",
    "        'Southampton', 'Arsenal', 'West Ham', 'Stoke', 'Liverpool',\n",
    "        'West Bromwich Albion', 'Manchester City', 'Hull', 'Burnley',\n",
    "        'Middlesbrough', 'Queens Park Rangers', 'Huddersfield', 'Brighton',\n",
    "        'Fulham', 'Cardiff', 'Wolverhampton Wanderers', 'Sheffield United',\n",
    "        'Leeds']"
   ]
  },
  {
   "cell_type": "code",
   "execution_count": 3,
   "id": "95dde9b5",
   "metadata": {},
   "outputs": [],
   "source": [
    "link = ['https://sofifa.com/teams?type=club&ct%5B0%5D=2&na%5B0%5D=14&r=160058&set=true',\n",
    "       'https://sofifa.com/teams?type=club&ct%5B0%5D=2&na%5B0%5D=14&r=170099&set=true',\n",
    "       'https://sofifa.com/teams?type=club&ct%5B0%5D=2&na%5B0%5D=14&r=180084&set=true',\n",
    "       'https://sofifa.com/teams?type=club&ct%5B0%5D=2&na%5B0%5D=14&r=190075&set=true',\n",
    "       'https://sofifa.com/teams?type=club&ct%5B0%5D=2&na%5B0%5D=14&r=200061&set=true',\n",
    "       'https://sofifa.com/teams?type=club&ct%5B0%5D=2&na%5B0%5D=14&r=210064&set=true']\n",
    "\n",
    "for url in link:\n",
    "    \n",
    "    response = requests.get(url)\n",
    "    if response.status_code == 200:\n",
    "        html = response.content\n",
    "        soup = BeautifulSoup(html, 'lxml')\n",
    "        \n",
    "        \n",
    "        team_names = soup.select('div[class=\"bp3-text-overflow-ellipsis\"]')\n",
    "        team_transfer_budget = soup.select('td[class=\"col col-tb\"]')\n",
    "        team_overall = soup.select('td[class=\"col col-oa\"] > span')\n",
    "\n",
    "        team = pd.DataFrame(columns=['name', 'transfer_budget', 'overall'], index=range(0, 20))\n",
    "        count = 0\n",
    "        for i in range(len(team_overall)):\n",
    "            if team_names[2*i+1].text.strip() == 'English Premier League (1)':\n",
    "                team.iloc[count, 0] = team_names[2*i].text.strip()\n",
    "                team.iloc[count, 2] = team_overall[i].text.strip()\n",
    "        \n",
    "                budget = team_transfer_budget[i].text.strip()\n",
    "                if budget[-1] == 'M':\n",
    "                    team.iloc[count, 1] = float(budget[1:-1])*1000000\n",
    "                    count += 1\n",
    "                elif budget[-1] == 'K':\n",
    "                    team.iloc[count, 1] = float(budget[1:-1])*1000\n",
    "                    count += 1\n",
    "        \n",
    "        for i in range(len(team['name'])):\n",
    "            for j in names:\n",
    "                if j in team['name'][i]:\n",
    "                    team.iloc[i, 0] = j\n",
    "            \n",
    "    team.to_csv(f'data\\\\scrapped\\\\fifa_teams_{url[-15:-13]}.csv')\n",
    "    time.sleep(5)"
   ]
  },
  {
   "cell_type": "code",
   "execution_count": null,
   "id": "52b9b19b",
   "metadata": {},
   "outputs": [],
   "source": []
  }
 ],
 "metadata": {
  "kernelspec": {
   "display_name": "Python 3",
   "language": "python",
   "name": "python3"
  },
  "language_info": {
   "codemirror_mode": {
    "name": "ipython",
    "version": 3
   },
   "file_extension": ".py",
   "mimetype": "text/x-python",
   "name": "python",
   "nbconvert_exporter": "python",
   "pygments_lexer": "ipython3",
   "version": "3.8.8"
  }
 },
 "nbformat": 4,
 "nbformat_minor": 5
}
